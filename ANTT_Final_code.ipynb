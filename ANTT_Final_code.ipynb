{
  "nbformat": 4,
  "nbformat_minor": 0,
  "metadata": {
    "colab": {
      "provenance": []
    },
    "kernelspec": {
      "name": "python3",
      "display_name": "Python 3"
    },
    "language_info": {
      "name": "python"
    }
  },
  "cells": [
    {
      "cell_type": "code",
      "execution_count": 3,
      "metadata": {
        "colab": {
          "base_uri": "https://localhost:8080/"
        },
        "id": "PbQL1-cw7jc8",
        "outputId": "2e72a095-97d9-4451-9655-28b56180121b"
      },
      "outputs": [
        {
          "output_type": "stream",
          "name": "stderr",
          "text": [
            "/usr/local/lib/python3.10/dist-packages/sklearn/cluster/_kmeans.py:870: FutureWarning: The default value of `n_init` will change from 10 to 'auto' in 1.4. Set the value of `n_init` explicitly to suppress the warning\n",
            "  warnings.warn(\n"
          ]
        },
        {
          "output_type": "stream",
          "name": "stdout",
          "text": [
            "Sheet: Sheet-1\n",
            "Silhouette Score: 0.9514184271908873\n",
            "RMSE (Regression): 0.0\n",
            "Accuracy (Classification): 1.0\n",
            "Precision: 1.0\n",
            "Recall: 1.0\n",
            "Health Status: Good Health\n",
            "\n"
          ]
        },
        {
          "output_type": "stream",
          "name": "stderr",
          "text": [
            "/usr/local/lib/python3.10/dist-packages/sklearn/cluster/_kmeans.py:870: FutureWarning: The default value of `n_init` will change from 10 to 'auto' in 1.4. Set the value of `n_init` explicitly to suppress the warning\n",
            "  warnings.warn(\n"
          ]
        },
        {
          "output_type": "stream",
          "name": "stdout",
          "text": [
            "Sheet: Sheet-2\n",
            "Silhouette Score: 0.9514184271908873\n",
            "RMSE (Regression): 0.0\n",
            "Accuracy (Classification): 1.0\n",
            "Precision: 1.0\n",
            "Recall: 1.0\n",
            "Health Status: Good Health\n",
            "\n"
          ]
        },
        {
          "output_type": "stream",
          "name": "stderr",
          "text": [
            "/usr/local/lib/python3.10/dist-packages/sklearn/cluster/_kmeans.py:870: FutureWarning: The default value of `n_init` will change from 10 to 'auto' in 1.4. Set the value of `n_init` explicitly to suppress the warning\n",
            "  warnings.warn(\n"
          ]
        },
        {
          "output_type": "stream",
          "name": "stdout",
          "text": [
            "Sheet: Sheet-3\n",
            "Silhouette Score: 0.9514184271908873\n",
            "RMSE (Regression): 0.0\n",
            "Accuracy (Classification): 1.0\n",
            "Precision: 1.0\n",
            "Recall: 1.0\n",
            "Health Status: Good Health\n",
            "\n"
          ]
        },
        {
          "output_type": "stream",
          "name": "stderr",
          "text": [
            "/usr/local/lib/python3.10/dist-packages/sklearn/cluster/_kmeans.py:870: FutureWarning: The default value of `n_init` will change from 10 to 'auto' in 1.4. Set the value of `n_init` explicitly to suppress the warning\n",
            "  warnings.warn(\n"
          ]
        },
        {
          "output_type": "stream",
          "name": "stdout",
          "text": [
            "Sheet: Sheet-4\n",
            "Silhouette Score: 0.9514184271908873\n",
            "RMSE (Regression): 0.0\n",
            "Accuracy (Classification): 1.0\n",
            "Precision: 1.0\n",
            "Recall: 1.0\n",
            "Health Status: Good Health\n",
            "\n"
          ]
        },
        {
          "output_type": "stream",
          "name": "stderr",
          "text": [
            "/usr/local/lib/python3.10/dist-packages/sklearn/cluster/_kmeans.py:870: FutureWarning: The default value of `n_init` will change from 10 to 'auto' in 1.4. Set the value of `n_init` explicitly to suppress the warning\n",
            "  warnings.warn(\n"
          ]
        },
        {
          "output_type": "stream",
          "name": "stdout",
          "text": [
            "Sheet: Sheet-5\n",
            "Silhouette Score: 0.9514184271908873\n",
            "RMSE (Regression): 0.0\n",
            "Accuracy (Classification): 1.0\n",
            "Precision: 1.0\n",
            "Recall: 1.0\n",
            "Health Status: Good Health\n",
            "\n"
          ]
        },
        {
          "output_type": "stream",
          "name": "stderr",
          "text": [
            "/usr/local/lib/python3.10/dist-packages/sklearn/cluster/_kmeans.py:870: FutureWarning: The default value of `n_init` will change from 10 to 'auto' in 1.4. Set the value of `n_init` explicitly to suppress the warning\n",
            "  warnings.warn(\n"
          ]
        },
        {
          "output_type": "stream",
          "name": "stdout",
          "text": [
            "Sheet: Sheet-6\n",
            "Silhouette Score: 0.9514184271908873\n",
            "RMSE (Regression): 0.0\n",
            "Accuracy (Classification): 1.0\n",
            "Precision: 1.0\n",
            "Recall: 1.0\n",
            "Health Status: Good Health\n",
            "\n"
          ]
        }
      ],
      "source": [
        "import pandas as pd\n",
        "import numpy as np\n",
        "from sklearn.model_selection import train_test_split\n",
        "from sklearn.ensemble import RandomForestRegressor, RandomForestClassifier\n",
        "from sklearn.metrics import mean_squared_error, accuracy_score, precision_score, recall_score\n",
        "from sklearn.preprocessing import MinMaxScaler\n",
        "from sklearn.cluster import KMeans\n",
        "from sklearn.metrics import silhouette_score\n",
        "\n",
        "def identify_threshold(df):\n",
        "    numeric_cols = df.select_dtypes(include='number')\n",
        "    threshold = numeric_cols.mean() + 2 * numeric_cols.std()\n",
        "    return threshold\n",
        "\n",
        "dataset_path = \"/content/drive/MyDrive/Assignment_ANTT/Pallet Washing Machine (2) (1).csv\"\n",
        "\n",
        "sheets = {}\n",
        "for sheet_name in ['Sheet-1', 'Sheet-2', 'Sheet-3', 'Sheet-4', 'Sheet-5', 'Sheet-6']:\n",
        "    sheets[sheet_name] = pd.read_csv(dataset_path, skiprows=1)\n",
        "\n",
        "for sheet_name, sheet_data in sheets.items():\n",
        "    threshold = identify_threshold(sheet_data)\n",
        "\n",
        "    sheet_data.drop(columns=['esp32_001', '2022-11-08T09:34:57.8310000Z'], inplace=True)\n",
        "\n",
        "    scaler = MinMaxScaler()\n",
        "    scaled_data = scaler.fit_transform(sheet_data)\n",
        "\n",
        "    kmeans = KMeans(n_clusters=3, random_state=42)\n",
        "    clusters = kmeans.fit_predict(scaled_data)\n",
        "\n",
        "    silhouette_avg = silhouette_score(scaled_data, clusters)\n",
        "\n",
        "    X_train_reg, X_test_reg, y_train_reg, y_test_reg = train_test_split(scaled_data, clusters, test_size=0.2, random_state=42)\n",
        "\n",
        "    rf_regressor = RandomForestRegressor(random_state=42)\n",
        "    rf_regressor.fit(X_train_reg, y_train_reg)\n",
        "\n",
        "    train_rmse_reg = mean_squared_error(y_train_reg, rf_regressor.predict(X_train_reg), squared=False)\n",
        "    test_rmse_reg = mean_squared_error(y_test_reg, rf_regressor.predict(X_test_reg), squared=False)\n",
        "\n",
        "    X_train_cls, X_test_cls, y_train_cls, y_test_cls = train_test_split(scaled_data, clusters, test_size=0.2, random_state=42)\n",
        "\n",
        "    rf_classifier = RandomForestClassifier(random_state=42)\n",
        "    rf_classifier.fit(X_train_cls, y_train_cls)\n",
        "\n",
        "    y_pred_cls = rf_classifier.predict(X_test_cls)\n",
        "\n",
        "    accuracy = accuracy_score(y_test_cls, y_pred_cls)\n",
        "    precision = precision_score(y_test_cls, y_pred_cls, average='weighted')\n",
        "    recall = recall_score(y_test_cls, y_pred_cls, average='weighted')\n",
        "\n",
        "    cluster_distribution = pd.Series(clusters).value_counts()\n",
        "    major_cluster = cluster_distribution.idxmax()\n",
        "    major_cluster_percentage = cluster_distribution[major_cluster] / len(clusters)\n",
        "\n",
        "    health_status = \"\"\n",
        "    if major_cluster_percentage >= 0.8:\n",
        "        health_status = \"Good Health\"\n",
        "    elif major_cluster_percentage >= 0.5 or accuracy >= 0.7:\n",
        "        health_status = \"Moderate Health\"\n",
        "    else:\n",
        "        health_status = \"Bad Health\"\n",
        "\n",
        "    print(f\"Sheet: {sheet_name}\")\n",
        "    print(f\"Silhouette Score: {silhouette_avg}\")\n",
        "    print(f\"RMSE (Regression): {test_rmse_reg}\")\n",
        "    print(f\"Accuracy (Classification): {accuracy}\")\n",
        "    print(f\"Precision: {precision}\")\n",
        "    print(f\"Recall: {recall}\")\n",
        "    print(f\"Health Status: {health_status}\\n\")\n",
        "\n"
      ]
    }
  ]
}